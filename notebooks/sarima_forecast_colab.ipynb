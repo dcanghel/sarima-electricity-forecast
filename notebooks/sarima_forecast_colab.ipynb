{
 "cells": [
  {
   "cell_type": "markdown",
   "id": "6a53eb43",
   "metadata": {},
   "source": [
    "# SARIMA Forecasting with Electricity Demand Data (EIA API)\n",
    "This Colab notebook uses U.S. electricity demand data from the EIA API (PJM region) to train and forecast using a SARIMA model."
   ]
  },
  {
   "cell_type": "code",
   "execution_count": null,
   "id": "42231997",
   "metadata": {},
   "outputs": [],
   "source": [
    "!pip install pandas matplotlib statsmodels requests\n"
   ]
  },
  {
   "cell_type": "code",
   "execution_count": null,
   "id": "0b146527",
   "metadata": {},
   "outputs": [],
   "source": [
    "import pandas as pd\n",
    "import matplotlib.pyplot as plt\n",
    "import requests\n",
    "from datetime import datetime\n",
    "from statsmodels.tsa.statespace.sarimax import SARIMAX\n",
    "import warnings\n",
    "warnings.filterwarnings(\"ignore\")\n"
   ]
  },
  {
   "cell_type": "code",
   "execution_count": null,
   "id": "cd1cf5fe",
   "metadata": {},
   "outputs": [],
   "source": [
    "# Paste your EIA API key here\n",
    "api_key = \"YOUR_EIA_API_KEY\"\n"
   ]
  },
  {
   "cell_type": "code",
   "execution_count": null,
   "id": "f43f1285",
   "metadata": {},
   "outputs": [],
   "source": [
    "url = \"https://api.eia.gov/v2/electricity/rto/region-data/data/\"\n",
    "params = {\n",
    "    \"api_key\": api_key,\n",
    "    \"frequency\": \"hourly\",\n",
    "    \"data[0]\": \"value\",\n",
    "    \"facets[respondent][]\": \"PJM\",\n",
    "    \"facets[type][]\": \"D\",\n",
    "    \"start\": \"2025-01-01T00\",\n",
    "    \"end\": datetime.now().strftime(\"%Y-%m-%dT%H\")\n",
    "}\n",
    "\n",
    "response = requests.get(url, params=params)\n",
    "data = response.json()\n",
    "df = pd.DataFrame(data[\"response\"][\"data\"])\n",
    "df[\"period\"] = pd.to_datetime(df[\"period\"])\n",
    "df = df.sort_values(\"period\").set_index(\"period\")\n",
    "df = df.rename(columns={\"value\": \"demand_MWh\"})\n",
    "df[\"demand_MWh\"] = pd.to_numeric(df[\"demand_MWh\"], errors=\"coerce\")\n",
    "df = df.dropna(subset=[\"demand_MWh\"])\n",
    "df.head()\n"
   ]
  },
  {
   "cell_type": "code",
   "execution_count": null,
   "id": "4bb04adc",
   "metadata": {},
   "outputs": [],
   "source": [
    "daily_df = df.resample(\"D\").mean()\n",
    "daily_df = daily_df.fillna(method=\"ffill\")\n",
    "daily_df.tail()\n"
   ]
  },
  {
   "cell_type": "code",
   "execution_count": null,
   "id": "429e9e84",
   "metadata": {},
   "outputs": [],
   "source": [
    "plt.figure(figsize=(14,5))\n",
    "plt.plot(daily_df, label='Daily Avg Demand (MWh)')\n",
    "plt.title('PJM Electricity Demand – 2025')\n",
    "plt.xlabel('Date')\n",
    "plt.ylabel('Megawatt-Hours')\n",
    "plt.legend()\n",
    "plt.grid(True)\n",
    "plt.tight_layout()\n",
    "plt.show()\n"
   ]
  },
  {
   "cell_type": "code",
   "execution_count": null,
   "id": "21f1874d",
   "metadata": {},
   "outputs": [],
   "source": [
    "y = daily_df['demand_MWh']\n",
    "model = SARIMAX(y, order=(1,1,1), seasonal_order=(1,1,1,7))\n",
    "results = model.fit()\n",
    "print(results.summary())\n"
   ]
  },
  {
   "cell_type": "code",
   "execution_count": null,
   "id": "e758521c",
   "metadata": {},
   "outputs": [],
   "source": [
    "forecast = results.forecast(14)\n",
    "plt.figure(figsize=(14,5))\n",
    "plt.plot(y[-60:], label=\"Actual\")\n",
    "plt.plot(forecast, label=\"Forecast\", linestyle='--')\n",
    "plt.title(\"Forecast of Electricity Demand (Next 14 Days)\")\n",
    "plt.xlabel(\"Date\")\n",
    "plt.ylabel(\"Megawatt-Hours\")\n",
    "plt.legend()\n",
    "plt.grid(True)\n",
    "plt.tight_layout()\n",
    "plt.show()\n"
   ]
  },
  {
   "cell_type": "code",
   "execution_count": null,
   "id": "5ae6933f",
   "metadata": {},
   "outputs": [],
   "source": [
    "daily_df.to_csv(\"pjm_daily_demand_2025.csv\")\n",
    "forecast.to_csv(\"pjm_forecast_next14days.csv\")\n"
   ]
  }
 ],
 "metadata": {},
 "nbformat": 4,
 "nbformat_minor": 5
}